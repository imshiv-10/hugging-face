{
  "nbformat": 4,
  "nbformat_minor": 0,
  "metadata": {
    "colab": {
      "provenance": [],
      "machine_shape": "hm",
      "name": "carbonEmission-tracker.ipynb",
      "authorship_tag": "ABX9TyPLCqaqtk4b68RXW/XTL6M5",
      "include_colab_link": true
    },
    "kernelspec": {
      "name": "python3",
      "display_name": "Python 3"
    },
    "language_info": {
      "name": "python"
    }
  },
  "cells": [
    {
      "cell_type": "markdown",
      "metadata": {
        "id": "view-in-github",
        "colab_type": "text"
      },
      "source": [
        "<a href=\"https://colab.research.google.com/github/imshiv-10/hugging-face-demo/blob/main/carbonEmission_tracker.ipynb\" target=\"_parent\"><img src=\"https://colab.research.google.com/assets/colab-badge.svg\" alt=\"Open In Colab\"/></a>"
      ]
    },
    {
      "cell_type": "code",
      "execution_count": null,
      "metadata": {
        "colab": {
          "base_uri": "https://localhost:8080/"
        },
        "id": "5u8APXvz-Awq",
        "outputId": "7953a0f1-4e95-4d0a-ef27-34b77ea85b2b"
      },
      "outputs": [
        {
          "output_type": "stream",
          "name": "stdout",
          "text": [
            "\u001b[?25l     \u001b[90m━━━━━━━━━━━━━━━━━━━━━━━━━━━━━━━━━━━━━━━━\u001b[0m \u001b[32m0.0/181.6 kB\u001b[0m \u001b[31m?\u001b[0m eta \u001b[36m-:--:--\u001b[0m\r\u001b[2K     \u001b[91m━━━━━━━━━━━━━━━━━━━━━━━━━━━━━━━\u001b[0m\u001b[91m╸\u001b[0m\u001b[90m━━━━━━━━\u001b[0m \u001b[32m143.4/181.6 kB\u001b[0m \u001b[31m4.3 MB/s\u001b[0m eta \u001b[36m0:00:01\u001b[0m\r\u001b[2K     \u001b[90m━━━━━━━━━━━━━━━━━━━━━━━━━━━━━━━━━━━━━━━━\u001b[0m \u001b[32m181.6/181.6 kB\u001b[0m \u001b[31m3.9 MB/s\u001b[0m eta \u001b[36m0:00:00\u001b[0m\n",
            "\u001b[?25h\u001b[?25l     \u001b[90m━━━━━━━━━━━━━━━━━━━━━━━━━━━━━━━━━━━━━━━━\u001b[0m \u001b[32m0.0/66.4 kB\u001b[0m \u001b[31m?\u001b[0m eta \u001b[36m-:--:--\u001b[0m\r\u001b[2K     \u001b[90m━━━━━━━━━━━━━━━━━━━━━━━━━━━━━━━━━━━━━━━━\u001b[0m \u001b[32m66.4/66.4 kB\u001b[0m \u001b[31m7.9 MB/s\u001b[0m eta \u001b[36m0:00:00\u001b[0m\n",
            "\u001b[2K     \u001b[90m━━━━━━━━━━━━━━━━━━━━━━━━━━━━━━━━━━━━━━━━\u001b[0m \u001b[32m53.1/53.1 kB\u001b[0m \u001b[31m6.0 MB/s\u001b[0m eta \u001b[36m0:00:00\u001b[0m\n",
            "\u001b[2K     \u001b[90m━━━━━━━━━━━━━━━━━━━━━━━━━━━━━━━━━━━━━━━━\u001b[0m \u001b[32m3.4/3.4 MB\u001b[0m \u001b[31m14.6 MB/s\u001b[0m eta \u001b[36m0:00:00\u001b[0m\n",
            "\u001b[?25h"
          ]
        },
        {
          "output_type": "stream",
          "name": "stderr",
          "text": [
            "[codecarbon INFO @ 23:22:18] [setup] RAM Tracking...\n",
            "[codecarbon INFO @ 23:22:18] [setup] GPU Tracking...\n",
            "[codecarbon INFO @ 23:22:18] No GPU found.\n",
            "[codecarbon INFO @ 23:22:18] [setup] CPU Tracking...\n",
            "[codecarbon WARNING @ 23:22:18] No CPU tracking mode found. Falling back on CPU constant mode.\n",
            "[codecarbon WARNING @ 23:22:19] We saw that you have a Intel(R) Xeon(R) CPU @ 2.20GHz but we don't know it. Please contact us.\n",
            "[codecarbon INFO @ 23:22:19] CPU Model on constant consumption mode: Intel(R) Xeon(R) CPU @ 2.20GHz\n",
            "[codecarbon INFO @ 23:22:19] >>> Tracker's metadata:\n",
            "[codecarbon INFO @ 23:22:19]   Platform system: Linux-6.1.58+-x86_64-with-glibc2.35\n",
            "[codecarbon INFO @ 23:22:19]   Python version: 3.10.12\n",
            "[codecarbon INFO @ 23:22:19]   CodeCarbon version: 2.3.4\n",
            "[codecarbon INFO @ 23:22:19]   Available RAM : 50.994 GB\n",
            "[codecarbon INFO @ 23:22:19]   CPU count: 8\n",
            "[codecarbon INFO @ 23:22:19]   CPU model: Intel(R) Xeon(R) CPU @ 2.20GHz\n",
            "[codecarbon INFO @ 23:22:19]   GPU count: None\n",
            "[codecarbon INFO @ 23:22:19]   GPU model: None\n",
            "[codecarbon INFO @ 23:22:20] Energy consumed for RAM : 0.000000 kWh. RAM Power : 19.122633934020996 W\n",
            "[codecarbon INFO @ 23:22:20] Energy consumed for all CPUs : 0.000000 kWh. Total CPU Power : 42.5 W\n",
            "[codecarbon INFO @ 23:22:20] 0.000000 kWh of electricity used since the beginning.\n"
          ]
        },
        {
          "output_type": "execute_result",
          "data": {
            "text/plain": [
              "1.9342914510844527e-08"
            ]
          },
          "metadata": {},
          "execution_count": 1
        }
      ],
      "source": [
        "!pip3 install codecarbon --quiet --upgrade\n",
        "\n",
        "from codecarbon import EmissionsTracker\n",
        "\n",
        "tracker = EmissionsTracker(output_dir='./')\n",
        "\n",
        "tracker.start()\n",
        "tracker.stop()"
      ]
    },
    {
      "cell_type": "code",
      "source": [],
      "metadata": {
        "id": "LfIJoLqQ-GV-"
      },
      "execution_count": null,
      "outputs": []
    }
  ]
}